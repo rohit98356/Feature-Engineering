{
  "nbformat": 4,
  "nbformat_minor": 0,
  "metadata": {
    "colab": {
      "provenance": []
    },
    "kernelspec": {
      "name": "python3",
      "display_name": "Python 3"
    },
    "language_info": {
      "name": "python"
    }
  },
  "cells": [
    {
      "cell_type": "code",
      "execution_count": null,
      "metadata": {
        "id": "Sjf57H47Akud"
      },
      "outputs": [],
      "source": []
    },
    {
      "cell_type": "markdown",
      "source": [
        "#Feature *Engineering*\n",
        "1. What is a parameter?\n",
        "  - A parameter is a value that is used to control or influence the behavior of a system, function, or process.\n",
        "2. What is correlation?\n",
        "  - Correlation is a statistical measure that describes the relationship between two variables. It indicates how changes in one variable are associated with changes in another. Correlation does not imply causation, meaning that even if two variables are correlated, one does not necessarily cause the other to change.\n",
        "3. What does negative correlation mean?\n",
        "  - A negative correlation means that as one variable increases, the other decreases, and vice versa. In other words, they move in opposite directions.\n",
        "4. Define Machine Learning. What are the main components in Machine Learning?\n",
        "  - Machine Learning (ML) is a subset of artificial intelligence (AI) that enables computers to learn from data and make decisions or predictions without being explicitly programmed. ML algorithms identify patterns in data and improve their performance over time as they process more information.\n",
        "  The main  components are:\n",
        ". Data\n",
        ". Feature\n",
        ". model\n",
        ". training process\n",
        "5. How does loss value help in determining whether the model is good or not?\n",
        "  - The loss value is a measure of how well or poorly a machine learning model is performing. It quantifies the difference between the model’s predictions and the actual values. The lower the loss value, the better the model's performance.\n",
        "6. What are continuous and categorical variables?\n",
        "  - In data science and statistics, variables are classified into continuous and categorical types based on the kind of data they represent.\n",
        "\n",
        "  A continuous variable is a numerical variable that can take an infinite number of values within a given range. These values are measurable and can have decimal points.\n",
        "\n",
        "  A categorical variable (also called a qualitative variable) represents data that can be divided into groups or categories. These values are not numerical in nature.\n",
        "7. How do we handle categorical variables in Machine Learning? What are the common techniques?\n",
        "  - Since most machine learning models work with numerical data, categorical variables need to be converted into a numerical format before they can be used. Below are the common techniques for handling categorical variables.\n",
        "8. What do you mean by training and testing a dataset?\n",
        "  - When building a machine learning model, the dataset is usually divided into two parts:\n",
        "\n",
        "Training Set – Used to train the model by teaching it patterns in the data.\n",
        "Testing Set – Used to evaluate the model’s performance on unseen data.\n",
        "9. What is sklearn.preprocessing?\n",
        "  - The sklearn.preprocessing module in Scikit-Learn provides tools for scaling, transforming, and encoding data to improve machine learning model performance. Raw data often has inconsistencies (e.g., different ranges, missing values, or categorical variables), so preprocessing ensures the data is in the right format before training a model.\n",
        "10. What is a Test set?\n",
        "  - A test set is a portion of a dataset that is not used for training but is reserved to evaluate the performance of a trained machine learning model. It helps determine how well the model generalizes to unseen data.\n",
        "11. How do we split data for model fitting (training and testing) in Python?\n",
        "  - In Python, the most common way to split data for model fitting (training and testing) is by using the train_test_split function from Scikit-Learn's model_selection module. This function allows you to divide your dataset into training and testing sets with a specified ratio.\n",
        "12. How do you approach a Machine Learning problem?\n",
        "  - Approaching a Machine Learning (ML) problem involves a systematic process that spans from understanding the problem to deploying and monitoring the model.\n",
        "13. Why do we have to perform EDA before fitting a model to the data?\n",
        "  - Performing Exploratory Data Analysis (EDA) before fitting a model to the data is a crucial step in the machine learning pipeline. EDA helps you understand the structure, patterns, and quality of the data before applying any machine learning algorithms.\n",
        "14. How can you find correlation between variables in Python?\n",
        "  - The pandas DataFrame has a built-in corr() method that computes the Pearson correlation coefficient between all pairs of numerical columns in a DataFrame.\n",
        "15. What is causation? Explain difference between correlation and causation with an example.\n",
        "  - Causation (also known as causal relationship) refers to a scenario where one event or variable directly influences or causes another event or variable. In other words, a change in one variable leads to a direct change in another.\n",
        "  Correlation Example:\n",
        "Variables: Ice cream sales and drowning incidents.\n",
        "16. What is an Optimizer? What are different types of optimizers? Explain each with an example.\n",
        "  - An optimizer in machine learning is an algorithm or method used to minimize (or maximize) a loss function (also called a cost function) by adjusting the model's parameters (e.g., weights in a neural network).\n",
        "17. What is sklearn.linear_model ?\n",
        "  - The module sklearn.linear_model in scikit-learn (a popular Python library for machine learning) contains linear models for both regression and classification tasks. These models are designed to model the relationship between a dependent variable (target) and one or more independent variables (features) using linear equations.\n",
        "18. What does model.fit() do? What arguments must be given?\n",
        "  - The model.fit() function in scikit-learn is used to train the machine learning model on a given dataset. It learns the relationships between the features (input data) and the target variable (output/label) by adjusting the model’s internal parameters\n",
        "19. What does model.predict() do? What arguments must be given?\n",
        "  - The model.predict() function in scikit-learn is used to make predictions using a trained machine learning model. Once a model has been trained using the fit() method, you can use predict() to make predictions on new, unseen data.\n",
        "20. What are continuous and categorical variables?\n",
        "  - Feature scaling is the process of normalizing or standardizing the values of numerical features in a dataset to bring them to a similar scale. This is important because many machine learning algorithms perform better or converge faster when features are on the same scale. Feature scaling adjusts the range of the features to a standard scale without distorting differences in the ranges of values.\n",
        "21. How do we perform scaling in Python?\n",
        "   - To perform feature scaling in Python, we commonly use the scikit-learn library, which provides several preprocessing tools, including MinMaxScaler (for normalization) and StandardScaler (for standardization).\n",
        "22. How do we split data for model fitting (training and testing) in Python?\n",
        "  - To split your data for model fitting (training and testing) in Python, we typically use scikit-learn's train_test_split function. This function splits your data into two subsets:\n",
        "\n",
        "Training set: Used to train the machine learning model.\n",
        "Test set: Used to evaluate the model's performance on unseen data.\n",
        "23. Explain data encoding?\n",
        " - Data encoding is the process of converting categorical data into a numerical format so that it can be used in machine learning algorithms. Most machine learning models work with numerical data, so encoding is a crucial step when working with categorical features.\n"
      ],
      "metadata": {
        "id": "I6qQvUk8AnNW"
      }
    }
  ]
}